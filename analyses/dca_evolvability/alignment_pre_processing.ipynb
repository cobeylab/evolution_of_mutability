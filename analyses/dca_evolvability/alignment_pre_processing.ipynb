{
 "cells": [
  {
   "cell_type": "code",
   "execution_count": 1,
   "metadata": {},
   "outputs": [],
   "source": [
    "import sys\n",
    "import numpy as np\n",
    "import csv\n",
    "import numpy as np\n",
    "import random\n",
    "from scipy import stats\n",
    "from Bio import SeqIO\n",
    "from Bio.Seq import Seq\n",
    "from Bio.SeqRecord import SeqRecord\n",
    "from IPython.display import clear_output\n",
    "from tqdm import tqdm\n",
    "\n",
    "sys.path.insert(0, '../simulated_alignments/modules')\n",
    "sys.path.insert(0,'../../data')\n",
    "\n",
    "from classBCR import BCR\n",
    "from gen_code_DNA import genetic_code\n",
    "sys.path.insert(0, '../equilibrium_mutability/')\n",
    "from equilibrium_mutability import site_specific_transitions, site_specific_rates\n",
    "sys.path.append(\"../../../Downloads/DCATools\")\n",
    "from sequenceHandler import *\n",
    "from dca import *\n",
    "from dca_fn import *\n"
   ]
  },
  {
   "cell_type": "markdown",
   "metadata": {},
   "source": [
    "Convert nt to aa and eliminate bad sequences"
   ]
  },
  {
   "cell_type": "code",
   "execution_count": 2,
   "metadata": {},
   "outputs": [],
   "source": [
    "datasets = ['TRAV_human','IGHV_human','IGLV_human','IGKV_human']"
   ]
  },
  {
   "cell_type": "code",
   "execution_count": 5,
   "metadata": {},
   "outputs": [],
   "source": [
    "for label in datasets:\n",
    "    directory = 'preprocessed_alignments/'+ label +'/'\n",
    "    input_file = '../../data/ig_germline_alignments/'+ label + '/' + label +'.fasta'\n",
    "    process_airr_nt(directory,input_file)"
   ]
  },
  {
   "cell_type": "markdown",
   "metadata": {},
   "source": [
    "Concatenate airr and IGSF alignments"
   ]
  },
  {
   "cell_type": "code",
   "execution_count": 8,
   "metadata": {},
   "outputs": [],
   "source": [
    "concat = []\n",
    "input_file = '../../data/ig_germline_alignments/IGSF/vset_rp35.fasta'\n",
    "fasta_sequences = SeqIO.parse(open(input_file),'fasta')\n",
    "for fasta in fasta_sequences:\n",
    "    concat.append(fasta)"
   ]
  },
  {
   "cell_type": "code",
   "execution_count": 9,
   "metadata": {},
   "outputs": [],
   "source": [
    "for label in datasets:\n",
    "    directory = 'preprocessed_alignments/'+ label +'/'\n",
    "    input_file = directory+\"aa.fasta\"\n",
    "    fasta_sequences = SeqIO.parse(open(input_file),'fasta')\n",
    "    for fasta in fasta_sequences:\n",
    "        concat.append(fasta)"
   ]
  },
  {
   "cell_type": "code",
   "execution_count": 10,
   "metadata": {},
   "outputs": [],
   "source": [
    "directory = 'preprocessed_alignments/'"
   ]
  },
  {
   "cell_type": "code",
   "execution_count": 11,
   "metadata": {},
   "outputs": [
    {
     "data": {
      "text/plain": [
       "24137"
      ]
     },
     "execution_count": 11,
     "metadata": {},
     "output_type": "execute_result"
    }
   ],
   "source": [
    "SeqIO.write(concat, directory+\"concat.fasta\", \"fasta\")"
   ]
  },
  {
   "cell_type": "markdown",
   "metadata": {},
   "source": [
    "(Now run HMM align)"
   ]
  }
 ],
 "metadata": {
  "kernelspec": {
   "display_name": "Python 3",
   "language": "python",
   "name": "python3"
  },
  "language_info": {
   "codemirror_mode": {
    "name": "ipython",
    "version": 3
   },
   "file_extension": ".py",
   "mimetype": "text/x-python",
   "name": "python",
   "nbconvert_exporter": "python",
   "pygments_lexer": "ipython3",
   "version": "3.8.3"
  }
 },
 "nbformat": 4,
 "nbformat_minor": 4
}
