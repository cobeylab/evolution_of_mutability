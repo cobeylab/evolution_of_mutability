{
 "cells": [
  {
   "cell_type": "code",
   "execution_count": 50,
   "metadata": {},
   "outputs": [],
   "source": [
    "import sys\n",
    "import numpy as np\n",
    "import csv\n",
    "import numpy as np\n",
    "import random\n",
    "from scipy import stats\n",
    "from Bio import SeqIO\n",
    "from Bio.Seq import Seq\n",
    "from Bio.SeqRecord import SeqRecord\n",
    "from IPython.display import clear_output\n",
    "from tqdm import tqdm\n",
    "from Levenshtein import distance as lev\n",
    "sys.path.insert(0, '../simulated_alignments/modules')\n",
    "from classBCR import BCR\n",
    "from gen_code_DNA import genetic_code\n",
    "sys.path.insert(0, '../equilibrium_mutability/')\n",
    "from equilibrium_mutability import site_specific_transitions, site_specific_rates\n",
    "sys.path.append(\"../../../Downloads/DCATools\")\n",
    "from sequenceHandler import *\n",
    "from dca import *\n",
    "from dca_fn import *\n",
    "from scipy.cluster.hierarchy import dendrogram, linkage\n"
   ]
  },
  {
   "cell_type": "code",
   "execution_count": 51,
   "metadata": {},
   "outputs": [],
   "source": [
    "directory = \"postprocessed_alignments/\""
   ]
  },
  {
   "cell_type": "code",
   "execution_count": 52,
   "metadata": {},
   "outputs": [],
   "source": [
    "input_file = directory+'IGSF_excluded.fasta'\n",
    "N = len(str(next(SeqIO.parse(open(input_file),'fasta')).seq))\n",
    "len_seq = N\n",
    "alph = 21"
   ]
  },
  {
   "cell_type": "code",
   "execution_count": 53,
   "metadata": {},
   "outputs": [],
   "source": [
    "J, h = importhJ('model_outputs/model_outputs_fullParams.dat',N,alph)"
   ]
  },
  {
   "cell_type": "code",
   "execution_count": 54,
   "metadata": {},
   "outputs": [],
   "source": [
    "input_file = directory+'IGSF_excluded.fasta'\n",
    "seq_mat_igsf = fastaToMatrix(input_file)[0]\n",
    "input_file = directory+'IGHV_trimmed.fasta'\n",
    "seq_mat_ighv = fastaToMatrix(input_file)[0]\n",
    "input_file = directory+'IGLV_trimmed.fasta'\n",
    "seq_mat_iglv = fastaToMatrix(input_file)[0]\n",
    "input_file = directory+'TRAV_trimmed.fasta'\n",
    "seq_mat_trav = fastaToMatrix(input_file)[0]"
   ]
  },
  {
   "cell_type": "code",
   "execution_count": 55,
   "metadata": {},
   "outputs": [],
   "source": [
    "n_igsf = 1000\n",
    "subset = random.sample(range(seq_mat_igsf.shape[0]),n_igsf)\n",
    "seq_mat_igsf_subset = seq_mat_igsf[subset,:]"
   ]
  },
  {
   "cell_type": "code",
   "execution_count": 56,
   "metadata": {},
   "outputs": [],
   "source": [
    "ighv_energies = np.zeros((seq_mat_ighv.shape[0],3))\n",
    "for i in range(len(ighv_energies)):\n",
    "    ighv_energies[i,:] = computePottsEnergies(h,J,seq_mat_ighv[i,:])\n",
    "\n",
    "igsf_energies = np.zeros((seq_mat_igsf_subset.shape[0],3))\n",
    "for i in range(len(igsf_energies)):\n",
    "    igsf_energies[i] = computePottsEnergies(h,J,seq_mat_igsf_subset[i,:])\n",
    "\n",
    "trav_energies = np.zeros((seq_mat_trav.shape[0],3))\n",
    "for i in range(len(trav_energies)):\n",
    "    trav_energies[i] = computePottsEnergies(h,J,seq_mat_trav[i,:])\n",
    "\n"
   ]
  },
  {
   "cell_type": "code",
   "execution_count": 57,
   "metadata": {},
   "outputs": [
    {
     "data": {
      "image/png": "[encoded data removed]",
      "text/plain": [
       "<Figure size 432x288 with 1 Axes>"
      ]
     },
     "metadata": {
      "needs_background": "light"
     },
     "output_type": "display_data"
    }
   ],
   "source": [
    "plt.hist(igsf_energies[:,0],alpha = 0.6,density= True,bins = 25,label='IGSF')\n",
    "plt.hist(ighv_energies[:,0],alpha = 0.6,density= True,bins=25,label = 'IGHV')\n",
    "plt.hist(trav_energies[:,0],alpha = 0.6,density= True,bins=25,label = 'TRAV')\n",
    "\n",
    "plt.ylim([0,1])\n",
    "plt.legend(loc = 'upper left')\n",
    "plt.xlabel('log P(s)')\n",
    "plt.savefig('hist.svg')  \n",
    "plt.show()"
   ]
  },
  {
   "cell_type": "code",
   "execution_count": 58,
   "metadata": {},
   "outputs": [],
   "source": [
    "#Dictionary of codon frequencies per amino acid:\n",
    "codon_freqs = {}\n",
    "# Read table of human codon frequencies (see reference in CSV file):\n",
    "with open('../relative_mutability/human_codon_frequencies.csv','r') as codon_freq_file:\n",
    "    for line in codon_freq_file:\n",
    "        # Skip first 3 lines\n",
    "        if line.find('#') == -1:\n",
    "            aa = line.split(' ')[1]\n",
    "            codon = line.split(' ')[0]\n",
    "            frequency = line.split(' ')[2]\n",
    "\n",
    "            if aa not in codon_freqs.keys():\n",
    "                codon_freqs[aa] = {codon:frequency}\n",
    "            else:\n",
    "                codon_freqs[aa][codon] = frequency\n",
    "\n",
    "    # Normalize so that freqs for each aa sum to 1 (some do not probably because of rounding error in the authors' report)\n",
    "    for aa in codon_freqs.keys():\n",
    "        freq_sum = 0\n",
    "        for codon in codon_freqs[aa].keys():\n",
    "            freq_sum = freq_sum + float(codon_freqs[aa][codon])\n",
    "\n",
    "        for codon in codon_freqs[aa].keys():\n",
    "            codon_freqs[aa][codon] = float(codon_freqs[aa][codon])/freq_sum"
   ]
  },
  {
   "cell_type": "code",
   "execution_count": 59,
   "metadata": {},
   "outputs": [],
   "source": [
    "nucleotides  =['A','T','C','G']"
   ]
  },
  {
   "cell_type": "code",
   "execution_count": 60,
   "metadata": {},
   "outputs": [],
   "source": [
    "sub_rate_dict = {'AG':4,'AT':1,'AC':1,'GA':4,'GT':1,'GC':1,'TA':1,'TC':4,'TG':1,'CA':1,'CG':1,'CT':4}"
   ]
  },
  {
   "cell_type": "code",
   "execution_count": 61,
   "metadata": {},
   "outputs": [],
   "source": [
    "#create spectrum\n",
    "spectra_mat = np.zeros((21,21))\n",
    "for i in range(1,21):\n",
    "    aa = invAaDict[i]\n",
    "    for codon in codon_freqs[aa]:\n",
    "        p_codon = codon_freqs[aa][codon]\n",
    "        for k in range(len(codon)):\n",
    "            for n in nucleotides:\n",
    "                if codon[k] != n:\n",
    "                    p_sub = sub_rate_dict[codon[k] + n]\n",
    "                    temp = codon[:k] + n + codon[k+1:]\n",
    "                    j = aaDict[genetic_code[temp]]\n",
    "                    spectra_mat[i,j] = spectra_mat[i,j] + p_codon*p_sub"
   ]
  },
  {
   "cell_type": "code",
   "execution_count": 62,
   "metadata": {},
   "outputs": [],
   "source": [
    "#normalize\n",
    "for i in range(21):\n",
    "    spectra_mat[i,i] = 0\n",
    "for i in range(1,21):\n",
    "    spectra_mat[i,:] = spectra_mat[i,:]/np.sum(spectra_mat[i,:])"
   ]
  },
  {
   "cell_type": "code",
   "execution_count": null,
   "metadata": {},
   "outputs": [
    {
     "name": "stderr",
     "output_type": "stream",
     "text": [
      " 72%|███████▏  | 723/1000 [01:31<00:34,  8.03it/s]"
     ]
    }
   ],
   "source": [
    "dE_igsf = np.zeros((21,N,n_igsf))\n",
    "for k in tqdm(range(n_igsf)):\n",
    "    seq = seq_mat_igsf_subset[k,:]\n",
    "    for j in range(N):\n",
    "        for i in range(1,21):\n",
    "            if seq[j] != 0:\n",
    "                mutation = invAaDict[seq[j]] + str(j) + invAaDict[i]\n",
    "                dE_igsf[i,j,k] = computeMutantPottsEnergiesDomains(h,J,seq,[mutation],int(N-1))[0][0]"
   ]
  },
  {
   "cell_type": "code",
   "execution_count": null,
   "metadata": {},
   "outputs": [],
   "source": [
    "dE_ighv = np.zeros((21,N,seq_mat_ighv.shape[0]))\n",
    "for k in tqdm(range(seq_mat_ighv.shape[0])):\n",
    "    seq = seq_mat_ighv[k,:]\n",
    "    for j in range(N):\n",
    "        for i in range(1,21):\n",
    "            if seq[j] != 0:\n",
    "                mutation = invAaDict[seq[j]] + str(j) + invAaDict[i]\n",
    "                dE_igsf[i,j,k] = computeMutantPottsEnergiesDomains(h,J,seq,[mutation],int(N-1))[0][0]"
   ]
  },
  {
   "cell_type": "code",
   "execution_count": 28,
   "metadata": {},
   "outputs": [
    {
     "data": {
      "text/plain": [
       "(19725, 82)"
      ]
     },
     "execution_count": 28,
     "metadata": {},
     "output_type": "execute_result"
    }
   ],
   "source": [
    "def siteWeighteddE(seq_mat,spectra_mat, dE):\n",
    "    site_weighted_mat = np.zeros(seq_mat.shape)\n",
    "    for i in range(seq_mat.shape[0]):\n",
    "        for j in range(seq_mat.shape[1]):\n",
    "            site_weighted_mat[i,j] = np.sum(spectra_mat[seq_mat[i,j],:]*dE[:,j,i])"
   ]
  },
  {
   "cell_type": "code",
   "execution_count": 43,
   "metadata": {},
   "outputs": [
    {
     "data": {
      "text/plain": [
       "0.0"
      ]
     },
     "execution_count": 43,
     "metadata": {},
     "output_type": "execute_result"
    }
   ],
   "source": [
    "np.sum(spectra_mat[seq_mat_ighv[1,9],:]*dE_ighv[:,1,9])"
   ]
  },
  {
   "cell_type": "code",
   "execution_count": 45,
   "metadata": {},
   "outputs": [
    {
     "data": {
      "text/plain": [
       "array([0.07142857, 0.        , 0.        , 0.        , 0.        ,\n",
       "       0.07142857, 0.07142857, 0.        , 0.        , 0.        ,\n",
       "       0.        , 0.        , 0.        , 0.        , 0.        ,\n",
       "       0.28571429, 0.14285714, 0.        , 0.        , 0.07142857,\n",
       "       0.28571429])"
      ]
     },
     "execution_count": 45,
     "metadata": {},
     "output_type": "execute_result"
    }
   ],
   "source": [
    "spectra_mat[2,:]"
   ]
  },
  {
   "cell_type": "code",
   "execution_count": 48,
   "metadata": {},
   "outputs": [
    {
     "data": {
      "text/plain": [
       "array([[ 0.        ,  0.        ,  0.        , ...,  0.        ,\n",
       "         0.        ,  0.        ],\n",
       "       [-0.0867464 , -0.07132524, -0.08859732, ...,  0.        ,\n",
       "        -0.11234772,  0.13162882],\n",
       "       [-0.35158138, -0.34059523, -0.35155979, ..., -0.19569719,\n",
       "        -0.35338135, -0.00918299],\n",
       "       ...,\n",
       "       [ 0.        ,  0.        ,  0.        , ...,  0.20021121,\n",
       "         0.        ,  0.25803638],\n",
       "       [-0.22138045, -0.21213576, -0.22148164, ..., -0.18899459,\n",
       "        -0.30381871, -0.08427734],\n",
       "       [-0.34425413, -0.33343471, -0.34452739, ...,  0.00734468,\n",
       "        -0.33850763,  0.0282567 ]])"
      ]
     },
     "execution_count": 48,
     "metadata": {},
     "output_type": "execute_result"
    }
   ],
   "source": [
    "dE_igsf[:,5]"
   ]
  },
  {
   "cell_type": "code",
   "execution_count": 39,
   "metadata": {},
   "outputs": [
    {
     "data": {
      "text/plain": [
       "1.0"
      ]
     },
     "execution_count": 39,
     "metadata": {},
     "output_type": "execute_result"
    }
   ],
   "source": [
    "np.sum(spectra_mat[1,:])"
   ]
  },
  {
   "cell_type": "code",
   "execution_count": 10,
   "metadata": {},
   "outputs": [
    {
     "name": "stderr",
     "output_type": "stream",
     "text": [
      "100%|██████████| 1000/1000 [03:13<00:00,  5.18it/s]\n"
     ]
    }
   ],
   "source": [
    "igsf_dists = np.zeros((len(seq_mat_igsf_subset[:,0]),len(seq_mat_igsf_subset[:,0])))\n",
    "for i in tqdm(range(len(seq_mat_igsf_subset[:,0]))):\n",
    "    for j in range(len(seq_mat_igsf_subset[:,0])):\n",
    "        igsf_dists[i,j] = hamming_distance(seq_mat_igsf_subset[i,:],seq_mat_igsf_subset[j,:])\n"
   ]
  },
  {
   "cell_type": "code",
   "execution_count": 11,
   "metadata": {},
   "outputs": [
    {
     "name": "stderr",
     "output_type": "stream",
     "text": [
      "100%|██████████| 461/461 [00:41<00:00, 11.20it/s]\n"
     ]
    }
   ],
   "source": [
    "ighv_dists = np.zeros((len(seq_mat_ighv[:,0]),len(seq_mat_ighv[:,0])))\n",
    "for i in tqdm(range(len(seq_mat_ighv[:,0]))):\n",
    "    for j in range(len(seq_mat_ighv[:,0])):\n",
    "        ighv_dists[i,j] = hamming_distance(seq_mat_ighv[i,:],seq_mat_ighv[j,:])"
   ]
  },
  {
   "cell_type": "code",
   "execution_count": 13,
   "metadata": {},
   "outputs": [
    {
     "name": "stderr",
     "output_type": "stream",
     "text": [
      "100%|██████████| 461/461 [01:28<00:00,  5.23it/s]\n"
     ]
    }
   ],
   "source": [
    "ighv_igsf_dists = np.zeros((len(seq_mat_ighv[:,0]),len(seq_mat_igsf_subset[:,0])))\n",
    "for i in tqdm(range(len(seq_mat_ighv[:,0]))):\n",
    "    for j in range(len(seq_mat_igsf_subset[:,0])):\n",
    "        ighv_igsf_dists[i,j] = hamming_distance(seq_mat_ighv[i,:],seq_mat_igsf_subset[j,:])"
   ]
  },
  {
   "cell_type": "code",
   "execution_count": null,
   "metadata": {},
   "outputs": [],
   "source": [
    "from scipy.spatial.distance import squareform\n",
    "condensed_dist_matrix = squareform(ighv_dists)\n",
    "linkage_data = linkage(condensed_dist_matrix, method='ward', metric='euclidean')\n",
    "dendrogram(linkage_data)\n",
    "\n",
    "plt.show() "
   ]
  },
  {
   "cell_type": "code",
   "execution_count": 17,
   "metadata": {},
   "outputs": [
    {
     "data": {
      "image/png": "[encoded data removed]",
      "text/plain": [
       "<Figure size 432x288 with 1 Axes>"
      ]
     },
     "metadata": {
      "needs_background": "light"
     },
     "output_type": "display_data"
    }
   ],
   "source": [
    "plt.hist(igsf_dists.flatten(),alpha = 0.6,density= True,bins = 25,label='IGSF')\n",
    "plt.hist(ighv_igsf_dists.flatten(),alpha = 0.6,density= True,bins = 25,label='joint')\n",
    "plt.hist(ighv_dists.flatten(),alpha = 0.6,density= True,bins = 25,label='IGHV')\n",
    "plt.legend()\n",
    "plt.show()"
   ]
  },
  {
   "cell_type": "code",
   "execution_count": null,
   "metadata": {},
   "outputs": [],
   "source": []
  }
 ],
 "metadata": {
  "kernelspec": {
   "display_name": "Python 3",
   "language": "python",
   "name": "python3"
  }
 },
 "nbformat": 4,
 "nbformat_minor": 4
}
