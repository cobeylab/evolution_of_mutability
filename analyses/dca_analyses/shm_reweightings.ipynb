{
 "cells": [
  {
   "cell_type": "code",
   "execution_count": 551,
   "metadata": {},
   "outputs": [],
   "source": [
    "import sys\n",
    "import numpy as np\n",
    "import csv\n",
    "import numpy as np\n",
    "import random\n",
    "from scipy import stats\n",
    "from Bio import SeqIO\n",
    "from Bio.Seq import Seq\n",
    "from Bio.SeqRecord import SeqRecord\n",
    "from IPython.display import clear_output\n",
    "from tqdm import tqdm\n",
    "\n",
    "sys.path.insert(0, '../simulated_alignments/modules')\n",
    "from classBCR import BCR\n",
    "from gen_code_DNA import genetic_code\n",
    "sys.path.insert(0, '../equilibrium_mutability/')\n",
    "from equilibrium_mutability import site_specific_transitions, site_specific_rates\n",
    "sys.path.append(\"../../../Downloads/DCATools\")\n",
    "from sequenceHandler import *\n",
    "from dca import *"
   ]
  },
  {
   "cell_type": "markdown",
   "metadata": {},
   "source": [
    "Null model for aa substitution spectra"
   ]
  },
  {
   "cell_type": "code",
   "execution_count": 14,
   "metadata": {},
   "outputs": [],
   "source": [
    "#Dictionary of codon frequencies per amino acid:\n",
    "codon_freqs = {}\n",
    "# Read table of human codon frequencies (see reference in CSV file):\n",
    "with open('../relative_mutability/human_codon_frequencies.csv','r') as codon_freq_file:\n",
    "    for line in codon_freq_file:\n",
    "        # Skip first 3 lines\n",
    "        if line.find('#') == -1:\n",
    "            aa = line.split(' ')[1]\n",
    "            codon = line.split(' ')[0]\n",
    "            frequency = line.split(' ')[2]\n",
    "\n",
    "            if aa not in codon_freqs.keys():\n",
    "                codon_freqs[aa] = {codon:frequency}\n",
    "            else:\n",
    "                codon_freqs[aa][codon] = frequency\n",
    "\n",
    "    # Normalize so that freqs for each aa sum to 1 (some do not probably because of rounding error in the authors' report)\n",
    "    for aa in codon_freqs.keys():\n",
    "        freq_sum = 0\n",
    "        for codon in codon_freqs[aa].keys():\n",
    "            freq_sum = freq_sum + float(codon_freqs[aa][codon])\n",
    "\n",
    "        for codon in codon_freqs[aa].keys():\n",
    "            codon_freqs[aa][codon] = float(codon_freqs[aa][codon])/freq_sum\n",
    "            "
   ]
  },
  {
   "cell_type": "code",
   "execution_count": 28,
   "metadata": {},
   "outputs": [],
   "source": [
    "nucleotides  =['A','T','C','G']"
   ]
  },
  {
   "cell_type": "code",
   "execution_count": 51,
   "metadata": {},
   "outputs": [],
   "source": [
    "sub_rate_dict = {'AG':4,'AT':1,'AC':1,'GA':4,'GT':1,'GC':1,'TA':1,'TC':4,'TG':1,'CA':1,'CG':1,'CT':4}"
   ]
  },
  {
   "cell_type": "code",
   "execution_count": 56,
   "metadata": {},
   "outputs": [],
   "source": [
    "#create spectrum\n",
    "spectra_mat = np.zeros((21,21))\n",
    "for i in range(1,21):\n",
    "    aa = invAaDict[i]\n",
    "    for codon in codon_freqs[aa]:\n",
    "        p_codon = codon_freqs[aa][codon]\n",
    "        for k in range(len(codon)):\n",
    "            for n in nucleotides:\n",
    "                if codon[k] != n:\n",
    "                    p_sub = sub_rate_dict[codon[k] + n]\n",
    "                    temp = codon[:k] + n + codon[k+1:]\n",
    "                    j = aaDict[genetic_code[temp]]\n",
    "                    spectra_mat[i,j] = spectra_mat[i,j] + p_codon*p_sub"
   ]
  },
  {
   "cell_type": "code",
   "execution_count": 57,
   "metadata": {},
   "outputs": [],
   "source": [
    "#normalize\n",
    "for i in range(21):\n",
    "    spectra_mat[i,i] = 0\n",
    "for i in range(1,21):\n",
    "    spectra_mat[i,:] = spectra_mat[i,:]/np.sum(spectra_mat[i,:])"
   ]
  },
  {
   "cell_type": "code",
   "execution_count": 61,
   "metadata": {},
   "outputs": [
    {
     "name": "stdout",
     "output_type": "stream",
     "text": [
      "A:\n",
      "D:0.05528052805280528\n",
      "E:0.028052805280528056\n",
      "G:0.08333333333333333\n",
      "P:0.08333333333333333\n",
      "S:0.08333333333333333\n",
      "T:0.3333333333333333\n",
      "V:0.3333333333333333\n",
      "C:\n",
      "F:0.07142857142857142\n",
      "G:0.07142857142857142\n",
      "R:0.2857142857142857\n",
      "S:0.14285714285714285\n",
      "W:0.07142857142857142\n",
      "Y:0.2857142857142857\n",
      "D:\n",
      "A:0.07142857142857142\n",
      "E:0.14285714285714285\n",
      "G:0.2857142857142857\n",
      "H:0.07142857142857142\n",
      "N:0.2857142857142857\n",
      "V:0.07142857142857142\n",
      "Y:0.07142857142857142\n",
      "E:\n",
      "A:0.07142857142857142\n",
      "D:0.14285714285714285\n",
      "G:0.2857142857142857\n",
      "K:0.2857142857142857\n",
      "Q:0.07142857142857142\n",
      "V:0.07142857142857142\n",
      "F:\n",
      "C:0.07142857142857142\n",
      "I:0.07142857142857142\n",
      "L:0.42857142857142855\n",
      "S:0.2857142857142857\n",
      "V:0.07142857142857142\n",
      "Y:0.07142857142857142\n",
      "G:\n",
      "A:0.08333333333333333\n",
      "C:0.041666666666666664\n",
      "D:0.16666666666666666\n",
      "E:0.16666666666666666\n",
      "R:0.25\n",
      "S:0.16666666666666666\n",
      "V:0.08333333333333333\n",
      "W:0.020833333333333332\n",
      "H:\n",
      "D:0.07142857142857142\n",
      "L:0.07142857142857142\n",
      "N:0.07142857142857142\n",
      "P:0.07142857142857142\n",
      "Q:0.14285714285714285\n",
      "R:0.2857142857142857\n",
      "Y:0.2857142857142857\n",
      "I:\n",
      "F:0.0614359733530718\n",
      "K:0.012583271650629165\n",
      "L:0.08660251665433012\n",
      "M:0.11176905995558846\n",
      "N:0.0614359733530718\n",
      "R:0.012583271650629165\n",
      "S:0.0614359733530718\n",
      "T:0.29607698001480387\n",
      "V:0.29607698001480387\n",
      "K:\n",
      "E:0.2857142857142857\n",
      "I:0.030714285714285715\n",
      "M:0.04071428571428571\n",
      "N:0.14285714285714285\n",
      "Q:0.07142857142857142\n",
      "R:0.2857142857142857\n",
      "T:0.07142857142857142\n",
      "L:\n",
      "F:0.17718940936863548\n",
      "H:0.03360488798370673\n",
      "I:0.04887983706720979\n",
      "M:0.053971486761710805\n",
      "P:0.32586558044806524\n",
      "Q:0.04786150712830958\n",
      "R:0.08146639511201631\n",
      "S:0.08553971486761712\n",
      "V:0.1028513238289206\n",
      "W:0.01323828920570265\n",
      "M:\n",
      "I:0.3333333333333333\n",
      "K:0.05555555555555555\n",
      "L:0.1111111111111111\n",
      "R:0.05555555555555555\n",
      "T:0.2222222222222222\n",
      "V:0.2222222222222222\n",
      "N:\n",
      "D:0.2857142857142857\n",
      "H:0.07142857142857142\n",
      "I:0.07142857142857142\n",
      "K:0.14285714285714285\n",
      "S:0.2857142857142857\n",
      "T:0.07142857142857142\n",
      "Y:0.07142857142857142\n",
      "P:\n",
      "A:0.08333333333333333\n",
      "H:0.050833333333333335\n",
      "L:0.3333333333333333\n",
      "Q:0.0325\n",
      "R:0.08333333333333333\n",
      "S:0.3333333333333333\n",
      "T:0.08333333333333333\n",
      "Q:\n",
      "E:0.07142857142857142\n",
      "H:0.14285714285714285\n",
      "K:0.07142857142857142\n",
      "L:0.07142857142857142\n",
      "P:0.07142857142857142\n",
      "R:0.2857142857142857\n",
      "R:\n",
      "C:0.08673894912427023\n",
      "G:0.18765638031693077\n",
      "H:0.08673894912427023\n",
      "I:0.01751459549624687\n",
      "K:0.14011676396997497\n",
      "L:0.0475396163469558\n",
      "M:0.01751459549624687\n",
      "P:0.0475396163469558\n",
      "Q:0.10341951626355296\n",
      "S:0.09174311926605504\n",
      "T:0.03502919099249374\n",
      "W:0.08423686405337781\n",
      "S:\n",
      "A:0.04773082942097027\n",
      "C:0.06259780907668232\n",
      "F:0.12832550860719874\n",
      "G:0.12206572769953052\n",
      "I:0.03051643192488263\n",
      "L:0.06259780907668232\n",
      "N:0.12206572769953052\n",
      "P:0.19092331768388107\n",
      "R:0.09154929577464788\n",
      "T:0.07824726134585289\n",
      "W:0.003912363067292645\n",
      "Y:0.032081377151799685\n",
      "T:\n",
      "A:0.33333333333333337\n",
      "I:0.2966666666666667\n",
      "K:0.03250000000000001\n",
      "M:0.036666666666666674\n",
      "N:0.05083333333333334\n",
      "P:0.08333333333333334\n",
      "R:0.03250000000000001\n",
      "S:0.13416666666666668\n",
      "V:\n",
      "A:0.3333333333333333\n",
      "D:0.034999999999999996\n",
      "E:0.04833333333333334\n",
      "F:0.034999999999999996\n",
      "G:0.08333333333333333\n",
      "I:0.18000000000000002\n",
      "L:0.13166666666666668\n",
      "M:0.15333333333333335\n",
      "W:\n",
      "C:0.1111111111111111\n",
      "G:0.05555555555555555\n",
      "L:0.05555555555555555\n",
      "R:0.2777777777777778\n",
      "S:0.05555555555555555\n",
      "Y:\n",
      "C:0.2857142857142857\n",
      "D:0.07142857142857142\n",
      "F:0.07142857142857142\n",
      "H:0.2857142857142857\n",
      "N:0.07142857142857142\n",
      "S:0.07142857142857142\n"
     ]
    }
   ],
   "source": [
    "for i in range(1,21):\n",
    "    print(invAaDict[i]+':')\n",
    "    for j in range(1,21):\n",
    "        if spectra_mat[i,j] !=0:\n",
    "            print(str(invAaDict[j]) + \":\" + str(spectra_mat[i,j]))"
   ]
  },
  {
   "cell_type": "code",
   "execution_count": 120,
   "metadata": {},
   "outputs": [],
   "source": [
    "def translate(sequence):\n",
    "        sequence = sequence.replace('.','')\n",
    "        sequence = str.upper(sequence[0:int(len(str.upper(sequence))/3)*3])\n",
    "        protein_seq = ''\n",
    "        for site in range(0, len(sequence), 3):\n",
    "            codon = genetic_code[sequence[site : site + 3]]\n",
    "            protein_seq = protein_seq + codon\n",
    "        return protein_seq, sequence"
   ]
  },
  {
   "cell_type": "code",
   "execution_count": 108,
   "metadata": {},
   "outputs": [],
   "source": [
    "def is_valid_nt(seq):\n",
    "    return not any(c not in 'gtcaGTCA.' for c in seq)"
   ]
  },
  {
   "cell_type": "code",
   "execution_count": 149,
   "metadata": {},
   "outputs": [],
   "source": [
    "def is_pseudogene(seq):\n",
    "    return any(c in '*' for c in seq)"
   ]
  },
  {
   "cell_type": "code",
   "execution_count": 392,
   "metadata": {},
   "outputs": [],
   "source": [
    "def computeMutantPottsEnergiesDomains(h,J,sequence,mutations,nSplit):\n",
    "    \"\"\" Computes the Potts energies for all mutants on the provided sequence\n",
    "\n",
    "    Keyword Arguments:\n",
    "        h (ndarray): 1-D array containing the potts model local biases h_i(A) in the following order: h_0(0),h_0(1),...,h_0(q),h_1(0),...,h_N(q)\n",
    "\n",
    "        J (ndarray): 1-D array containing the potts model couplings J_ij(A,B) in the following order J_01(0,0),J_01(0,1),...,J_01(0,q),J_01(1,0),...,J_02(0,0),...,J_N-1,N(q,q)\n",
    "\n",
    "        sequence (ndarray): A  numpy array containing the native sequence in numerical format\n",
    "    \n",
    "        mutations (list) : A list of mutations in string format in the following format S14T\n",
    "    \n",
    "        nSplit (int): The last position (zero-based) of the first domain/protein in the concatenated sequence, defining where the energy contributions are split.\n",
    "    \n",
    "    Returns:\n",
    "        dEnergies (ndarray): An Mx3 array containing the delta Energy triplets (dE_intra1, dE_intra2, dE_inter) for each of the M mutants\n",
    "    \"\"\"\n",
    "    mutations=np.asarray(mutations,dtype=str)\n",
    "    energies = np.zeros((mutations.shape[0],3))\n",
    "    N = len(sequence)\n",
    "    q= 21\n",
    "    Ns=nSplit+1\n",
    "\n",
    "    \n",
    "    for k,mutation in enumerate(mutations):\n",
    "        iMut=int(mutation[1:-1])\n",
    "        aaMut=aaDict[mutation[-1]]\n",
    "\n",
    "        dH = h[q*iMut+aaMut]-h[q*iMut+sequence[iMut]]\n",
    "        if iMut<Ns:\n",
    "            dJ_intra1=(J[(iMut*N -int((iMut+2)*(iMut+1)/2)+np.arange((iMut+1),Ns))*q*q + q*aaMut+sequence[(iMut+1):Ns]]-\n",
    "                       J[(iMut*N -int((iMut+2)*(iMut+1)/2)+np.arange((iMut+1),Ns))*q*q + q*sequence[iMut]+sequence[(iMut+1):Ns]]).sum()\n",
    "            dJ_intra1+=(J[(np.arange(iMut)*N -((np.arange(iMut)+2)*(np.arange(iMut)+1)/2).astype(int)+iMut)*q*q + q*sequence[:iMut] +aaMut]-\n",
    "                        J[(np.arange(iMut)*N -((np.arange(iMut)+2)*(np.arange(iMut)+1)/2).astype(int)+iMut)*q*q + q*sequence[:iMut]+sequence[iMut]]).sum()\n",
    "           \n",
    "            dJ_inter=(J[(iMut*N -int((iMut+2)*(iMut+1)/2)+np.arange(Ns,N))*q*q + q*aaMut+sequence[Ns:N]]-\n",
    "                      J[(iMut*N -int((iMut+2)*(iMut+1)/2)+np.arange(Ns,N))*q*q + q*sequence[iMut]+sequence[Ns:N]]).sum()\n",
    "            energies[k,:]=[dH+dJ_intra1,0.,dJ_inter]\n",
    "            \n",
    "        else:\n",
    "            dJ_intra2=(J[(iMut*N -(iMut+2)*(iMut+1)/2+np.arange(iMut+1,N))*q*q + q*aaMut+sequence[(iMut+1):N]]-\n",
    "                       J[(iMut*N -(iMut+2)*(iMut+1)/2+np.arange(iMut+1,N))*q*q + q*sequence[iMut]+sequence[(iMut+1):N]]).sum()\n",
    "            dJ_intra2+=(J[(np.arange(Ns+1,iMut)*N -(np.arange(Ns+1,iMut)+2)*(np.arange(Ns+1,iMut)+1)/2+iMut)*q*q + q*sequence[Ns+1:iMut] +aaMut]-\n",
    "                        J[(np.arange(Ns+1,iMut)*N -(np.arange(Ns+1,iMut)+2)*(np.arange(Ns+1,iMut)+1)/2+iMut)*q*q + q*sequence[Ns+1:iMut]+sequence[iMut]]).sum()\n",
    "       \n",
    "            dJ_inter=(J[(np.arange(Ns)*N -(np.arange(Ns)+2)*(np.arange(Ns)+1)/2+iMut)*q*q + q*sequence[:Ns] +aaMut]-\n",
    "                        J[(np.arange(Ns)*N -(np.arange(Ns)+2)*(np.arange(Ns)+1)/2+iMut)*q*q + q*sequence[:Ns]+sequence[iMut]]).sum()\n",
    "            energies[k,:]=[0.,dH+dJ_intra2,dJ_inter]\n",
    " \n",
    "    return energies\n",
    "\n",
    "def importhJ(filename,N,alph):\n",
    "    hJ = np.fromfile('output_fullParams.dat', dtype=float)\n",
    "\n",
    "    h_array = np.zeros(0)\n",
    "    for i in range(0,N):\n",
    "        h_array = np.concatenate((h_array,hJ[(alph+N*alph*alph)*i:(alph+N*alph*alph)*i+alph]))\n",
    "    \n",
    "    h_mat = np.zeros((N,alph))\n",
    "    for i in range(0,N):\n",
    "        for j in range(0,alph):\n",
    "            h_mat[i,j] = h_array[i*alph + j]\n",
    "        \n",
    "    J_array = np.zeros(0)\n",
    "    for i in range(0,N):\n",
    "        J_array = np.concatenate((J_array,hJ[(alph+N*alph*alph)*i+alph:(alph+N*alph*alph)*i+alph+N*alph*alph]))\n",
    "\n",
    "    J_array_is_not_diag = np.zeros(len(J_array)) + 1\n",
    "    for i in range(0,N):\n",
    "        for a in range(0,alph):\n",
    "            for b in range(0,alph):\n",
    "                J_array_is_not_diag[i*N*alph*alph + i*alph*alph + a*alph+b] = 0\n",
    "            \n",
    "    J_array_trimmed = J_array[J_array_is_not_diag.astype(bool)]\n",
    "    return J_array_trimmed, h_array"
   ]
  },
  {
   "cell_type": "code",
   "execution_count": 155,
   "metadata": {},
   "outputs": [],
   "source": [
    "input_file = 'IGHV_nt.fasta'\n",
    "fasta_sequences = SeqIO.parse(open(input_file),'fasta')\n",
    "ighv_aa = []\n",
    "ighv_nt = []\n",
    "for fasta in fasta_sequences:\n",
    "    if is_valid_nt(str(fasta.seq)):\n",
    "        aa, nt = translate(str(fasta.seq))\n",
    "        if not is_pseudogene(aa):\n",
    "            record = SeqRecord(Seq(aa),id = fasta.id, name = fasta.name, description = \"\" )\n",
    "            ighv_aa.append(record)\n",
    "            record = SeqRecord(Seq(nt),id = fasta.id, name = fasta.name, description = \"\" )\n",
    "            ighv_nt.append(record)\n",
    "SeqIO.write(ighv_aa, \"ighv_aa.fasta\", \"fasta\")\n",
    "SeqIO.write(ighv_nt, \"ighv_nt_revised.fasta\", \"fasta\")"
   ]
  },
  {
   "cell_type": "code",
   "execution_count": 158,
   "metadata": {},
   "outputs": [],
   "source": [
    "#concatenate"
   ]
  },
  {
   "cell_type": "code",
   "execution_count": 159,
   "metadata": {},
   "outputs": [
    {
     "data": {
      "text/plain": [
       "23815"
      ]
     },
     "execution_count": 159,
     "metadata": {},
     "output_type": "execute_result"
    }
   ],
   "source": [
    "concat = []\n",
    "input_file = 'IGHV_aa.fasta'\n",
    "fasta_sequences = SeqIO.parse(open(input_file),'fasta')\n",
    "for fasta in fasta_sequences:\n",
    "    concat.append(fasta)\n",
    "input_file = 'vset_rp35.fasta'\n",
    "fasta_sequences = SeqIO.parse(open(input_file),'fasta')\n",
    "for fasta in fasta_sequences:\n",
    "    concat.append(fasta)\n",
    "SeqIO.write(concat, \"concat.fasta\", \"fasta\")"
   ]
  },
  {
   "cell_type": "code",
   "execution_count": 170,
   "metadata": {},
   "outputs": [],
   "source": [
    "stockholm2fasta(\"concat_aligned\",\"concat_aligned.fasta\",noFilterInserts=True)"
   ]
  },
  {
   "cell_type": "code",
   "execution_count": 197,
   "metadata": {},
   "outputs": [],
   "source": [
    "import string\n",
    "table = str.maketrans('', '', string.ascii_lowercase)"
   ]
  },
  {
   "cell_type": "code",
   "execution_count": 190,
   "metadata": {},
   "outputs": [],
   "source": [
    "stockholm2fasta(\"concat_aligned\",\"concat_aligned_filtered.fasta\",noFilterInserts=False)"
   ]
  },
  {
   "cell_type": "code",
   "execution_count": 269,
   "metadata": {},
   "outputs": [],
   "source": [
    "ids_old_to_new_dict = {}\n",
    "ids_new_to_old_dict = {}\n",
    "input_file = 'concat_aligned.fasta'\n",
    "fasta_sequences = SeqIO.parse(open(input_file),'fasta')\n",
    "for fasta in fasta_sequences:\n",
    "    if 'IGHV' in fasta.id:\n",
    "        old_to_new_dict = {}\n",
    "        new_to_old_dict = {}\n",
    "        seq = str(fasta.seq).replace('.','')\n",
    "        for i in range(len(seq)):\n",
    "            old_idx = len(seq[:i].replace('-',''))\n",
    "            new_idx = len(seq[:i].translate(table))\n",
    "            if seq[i].islower():\n",
    "                new_idx = -1\n",
    "            if seq[i] == '-':\n",
    "                old_idx = -1\n",
    "            if not old_idx == -1:\n",
    "                old_to_new_dict[old_idx] = new_idx\n",
    "            if not new_idx == -1:\n",
    "                new_to_old_dict[new_idx] = old_idx\n",
    "        ids_old_to_new_dict[fasta.id] = old_to_new_dict\n",
    "        ids_new_to_old_dict[fasta.id] = new_to_old_dict\n"
   ]
  },
  {
   "cell_type": "markdown",
   "metadata": {},
   "source": [
    "testing"
   ]
  },
  {
   "cell_type": "code",
   "execution_count": 271,
   "metadata": {},
   "outputs": [],
   "source": [
    "for j in range(40):\n",
    "    fasta_new = SeqIO.parse(open(\"concat_aligned_filtered.fasta\"),'fasta')\n",
    "    fasta_old = SeqIO.parse(open(\"IGHV_aa.fasta\"),'fasta')\n",
    "    new = next(fasta_new)\n",
    "    old = next(fasta_old)\n",
    "\n",
    "    seq_id = new.id\n",
    "    for i in range(len(str(new.seq))):\n",
    "        if str(new.seq)[i] != '-':\n",
    "            if str(new.seq)[i] != str(old.seq)[ids_new_to_old_dict[seq_id][i]]:\n",
    "                print(new)\n",
    "                print(str(new.seq)[i])\n",
    "                print(str(old.seq)[ids_new_to_old_dict[seq_id][i]])\n",
    "                break"
   ]
  },
  {
   "cell_type": "code",
   "execution_count": null,
   "metadata": {},
   "outputs": [],
   "source": [
    "trimming"
   ]
  },
  {
   "cell_type": "code",
   "execution_count": 273,
   "metadata": {},
   "outputs": [],
   "source": [
    "len_untrimmed = len(str(next(SeqIO.parse(open(\"concat_aligned_filtered.fasta\"),'fasta')).seq))\n",
    "to_trim_beg = 8\n",
    "to_trim_end = 19"
   ]
  },
  {
   "cell_type": "code",
   "execution_count": 274,
   "metadata": {},
   "outputs": [
    {
     "data": {
      "text/plain": [
       "109"
      ]
     },
     "execution_count": 274,
     "metadata": {},
     "output_type": "execute_result"
    }
   ],
   "source": [
    "len_untrimmed"
   ]
  },
  {
   "cell_type": "code",
   "execution_count": 277,
   "metadata": {},
   "outputs": [],
   "source": [
    "concat_trimmed = []\n",
    "input_file = 'concat_aligned_filtered.fasta'\n",
    "fasta_sequences = SeqIO.parse(open(input_file),'fasta')\n",
    "for fasta in fasta_sequences:\n",
    "    aa = str(fasta.seq)\n",
    "    record = SeqRecord(Seq(aa[to_trim_beg:len_untrimmed-to_trim_end]),id = fasta.id, name = fasta.name, description = \"\" )\n",
    "    concat_trimmed.append(record)\n",
    "                    \n",
    "            "
   ]
  },
  {
   "cell_type": "code",
   "execution_count": 278,
   "metadata": {},
   "outputs": [
    {
     "data": {
      "text/plain": [
       "23815"
      ]
     },
     "execution_count": 278,
     "metadata": {},
     "output_type": "execute_result"
    }
   ],
   "source": [
    "SeqIO.write(concat_trimmed, \"concat_trimmed.fasta\", \"fasta\")"
   ]
  },
  {
   "cell_type": "code",
   "execution_count": 280,
   "metadata": {},
   "outputs": [],
   "source": [
    "ids_old_to_new_dict_trimmed = {}\n",
    "ids_new_to_old_dict_trimmed = {}\n",
    "for seq_id in ids_old_to_new_dict:\n",
    "    old_to_new_dict = ids_old_to_new_dict[seq_id]\n",
    "    new_to_old_dict = ids_new_to_old_dict[seq_id]\n",
    "    old_to_new_dict_trimmed = {}\n",
    "    new_to_old_dict_trimmed = {}\n",
    "    for old_idx in old_to_new_dict:\n",
    "        if old_to_new_dict[old_idx] >= to_trim_beg or old_to_new_dict[old_idx] < len_untrimmed - to_trim_end:\n",
    "            old_to_new_dict_trimmed[old_idx] = old_to_new_dict[old_idx] - to_trim_beg\n",
    "        else:\n",
    "            old_to_new_dict_trimmed[old_idx] = -1\n",
    "            \n",
    "    for new_idx in new_to_old_dict:\n",
    "        if new_idx >= to_trim_beg or new_idx < len_untrimmed - to_trim_end:\n",
    "            new_to_old_dict_trimmed[new_idx-to_trim_beg] = new_to_old_dict[new_idx]\n",
    "    ids_old_to_new_dict_trimmed[seq_id]=old_to_new_dict_trimmed\n",
    "    ids_new_to_old_dict_trimmed[seq_id]= new_to_old_dict_trimmed"
   ]
  },
  {
   "cell_type": "code",
   "execution_count": null,
   "metadata": {},
   "outputs": [],
   "source": [
    "#testing"
   ]
  },
  {
   "cell_type": "code",
   "execution_count": 281,
   "metadata": {},
   "outputs": [],
   "source": [
    "for j in range(40):\n",
    "    fasta_new = SeqIO.parse(open(\"concat_trimmed.fasta\"),'fasta')\n",
    "    fasta_old = SeqIO.parse(open(\"IGHV_aa.fasta\"),'fasta')\n",
    "    new = next(fasta_new)\n",
    "    old = next(fasta_old)\n",
    "\n",
    "    seq_id = new.id\n",
    "    for i in range(len(str(new.seq))):\n",
    "        if str(new.seq)[i] != '-':\n",
    "            if str(new.seq)[i] != str(old.seq)[ids_new_to_old_dict_trimmed[seq_id][i]]:\n",
    "                print(new)\n",
    "                print(str(new.seq)[i])\n",
    "                print(str(old.seq)[ids_new_to_old_dict_trimmed[seq_id][i]])\n",
    "                break"
   ]
  },
  {
   "cell_type": "code",
   "execution_count": 282,
   "metadata": {},
   "outputs": [],
   "source": [
    "new = next(SeqIO.parse(open(\"concat_trimmed.fasta\"),'fasta'))\n",
    "old_nt = next(SeqIO.parse(open(\"ighv_nt_revised.fasta\"),'fasta'))"
   ]
  },
  {
   "cell_type": "code",
   "execution_count": 290,
   "metadata": {},
   "outputs": [
    {
     "name": "stdout",
     "output_type": "stream",
     "text": [
      "G\n",
      "GGA\n",
      "('G', 'GGA')\n"
     ]
    }
   ],
   "source": [
    "i = 30\n",
    "print(str(new.seq[i]))\n",
    "old_idx = ids_new_to_old_dict_trimmed[new.id][i]\n",
    "print(str(old_nt.seq)[old_idx*3:old_idx*3+3])\n",
    "print(translate(str(old_nt.seq)[old_idx*3:old_idx*3+3]))"
   ]
  },
  {
   "cell_type": "code",
   "execution_count": 463,
   "metadata": {},
   "outputs": [],
   "source": [
    "def generateS5Fmat(old_nt,aa_trimmed,seq_id,relative_mutabilities = True):\n",
    "    \n",
    "    len_seq = len(aa_trimmed)\n",
    "    transitions = site_specific_transitions(old_nt)\n",
    "    mutabilities = site_specific_rates(old_nt,1,1)\n",
    "    mutabilities = mutabilities/np.sum(mutabilities)\n",
    "    S5Fmat = np.zeros((21,len_seq))\n",
    "    for i in range(len_seq):\n",
    "        old_aa = aa_trimmed[i]\n",
    "        if old_aa != '-':\n",
    "            old_i = ids_new_to_old_dict_trimmed[seq_id][i]\n",
    "            old_codon = old_nt[old_i*3:old_i*3+3]\n",
    "            for j in range(old_i*3,old_i*3+3):\n",
    "                for nt in ['A','T','C','G']:\n",
    "                    new_codon = old_nt[old_i*3:j] + nt + old_nt[j+1:old_i*3+3]\n",
    "                    if relative_mutabilities:\n",
    "                        p = transitions[j][nt]*mutabilities[j]\n",
    "                    else:\n",
    "                        p = transitions[j][nt]\n",
    "                    new_aa = translate(new_codon)[0]\n",
    "                    if new_aa != old_aa and new_aa != '*':\n",
    "                        S5Fmat[aaDict[new_aa],i] = p + S5Fmat[aaDict[new_aa],i]\n",
    "    return S5Fmat"
   ]
  },
  {
   "cell_type": "code",
   "execution_count": 316,
   "metadata": {},
   "outputs": [
    {
     "data": {
      "text/plain": [
       "23466"
      ]
     },
     "execution_count": 316,
     "metadata": {},
     "output_type": "execute_result"
    }
   ],
   "source": [
    "ighv_trimmed = []\n",
    "igsf_trimmed = []\n",
    "input_file = 'concat_trimmed.fasta'\n",
    "fasta_sequences = SeqIO.parse(open(input_file),'fasta')\n",
    "for fasta in fasta_sequences:\n",
    "    if 'IGHV' in fasta.id:\n",
    "        ighv_trimmed.append(fasta)\n",
    "    else:\n",
    "        igsf_trimmed.append(fasta)\n",
    "SeqIO.write(ighv_trimmed, \"ighv_trimmed.fasta\", \"fasta\")\n",
    "SeqIO.write(igsf_trimmed, \"igsf_trimmed.fasta\", \"fasta\")\n"
   ]
  },
  {
   "cell_type": "code",
   "execution_count": 317,
   "metadata": {},
   "outputs": [
    {
     "name": "stdout",
     "output_type": "stream",
     "text": [
      "Original number of sequences  0\n",
      "Sequences after filtering :  22559\n",
      "Filtered sequences saved to  igsf_trimmed_gapfiltered.fasta\n"
     ]
    }
   ],
   "source": [
    "filterSequenceByGapContent(\"igsf_trimmed.fasta\",0.25,\"igsf_trimmed_gapfiltered.fasta\",verbose=True)\n"
   ]
  },
  {
   "cell_type": "code",
   "execution_count": 382,
   "metadata": {},
   "outputs": [],
   "source": [
    "input_file = 'igsf_trimmed_gapfiltered.fasta'\n",
    "N = len(str(next(SeqIO.parse(open(input_file),'fasta')).seq))\n",
    "len_seq = N\n",
    "alph = 21"
   ]
  },
  {
   "cell_type": "code",
   "execution_count": 352,
   "metadata": {},
   "outputs": [],
   "source": [
    "J, h = importhJ('output_fullParams.dat',N,alph)"
   ]
  },
  {
   "cell_type": "code",
   "execution_count": 374,
   "metadata": {},
   "outputs": [],
   "source": [
    "input_file = 'igsf_trimmed_gapfiltered.fasta'\n",
    "seq_mat_igsf = fastaToMatrix(input_file)[0]\n",
    "input_file = 'ighv_trimmed.fasta'\n",
    "seq_mat_ighv = fastaToMatrix(input_file)[0]"
   ]
  },
  {
   "cell_type": "code",
   "execution_count": 533,
   "metadata": {},
   "outputs": [],
   "source": [
    "old_nts = []\n",
    "seq_ids = []\n",
    "ighv_aa = []\n",
    "fasta_sequences = SeqIO.parse(open(\"ighv_nt_revised.fasta\"),'fasta')\n",
    "for fasta in fasta_sequences:\n",
    "    old_nts.append(str(fasta.seq))\n",
    "    seq_ids.append(fasta.id)\n",
    "fasta_sequences = SeqIO.parse(open(\"ighv_trimmed.fasta\"),'fasta')\n",
    "for fasta in fasta_sequences:\n",
    "    ighv_aa.append(str(fasta.seq))\n",
    "old_nts = np.array(old_nts)\n",
    "seq_ids = np.array(seq_ids)\n",
    "ighv_aa = np.array(ighv_aa)"
   ]
  },
  {
   "cell_type": "code",
   "execution_count": 394,
   "metadata": {},
   "outputs": [
    {
     "name": "stderr",
     "output_type": "stream",
     "text": [
      "100%|██████████| 349/349 [00:44<00:00,  7.89it/s]\n"
     ]
    }
   ],
   "source": [
    "dE_ighv = np.zeros((21,len_seq,seq_mat_ighv.shape[0]))\n",
    "for k in tqdm(range(seq_mat_ighv.shape[0])):\n",
    "    seq = seq_mat_ighv[k,:]\n",
    "    for j in range(len_seq):\n",
    "        for i in range(1,21):\n",
    "            if seq_mat_ighv[k,j] != 0:\n",
    "                mutation = invAaDict[seq_mat_ighv[k,j]] + str(j) + invAaDict[i]\n",
    "                dE_ighv[i,j,k] = computeMutantPottsEnergiesDomains(h,J,seq,[mutation],int(len_seq-1))[0][0]"
   ]
  },
  {
   "cell_type": "code",
   "execution_count": 408,
   "metadata": {},
   "outputs": [],
   "source": []
  },
  {
   "cell_type": "code",
   "execution_count": 409,
   "metadata": {},
   "outputs": [
    {
     "name": "stderr",
     "output_type": "stream",
     "text": [
      "100%|██████████| 1000/1000 [02:04<00:00,  8.06it/s]\n"
     ]
    }
   ],
   "source": [
    "n_igsf = 1000\n",
    "subset = random.sample(range(seq_mat_igsf.shape[0]),n_igsf)\n",
    "seq_mat_igsf_subset = seq_mat_igsf[subset,:]\n",
    "dE_igsf = np.zeros((21,len_seq,n_igsf))\n",
    "for k in tqdm(range(n_igsf)):\n",
    "    seq = seq_mat_igsf_subset[k,:]\n",
    "    for j in range(len_seq):\n",
    "        for i in range(1,21):\n",
    "            if seq[j] != 0:\n",
    "                mutation = invAaDict[seq[j]] + str(j) + invAaDict[i]\n",
    "                dE_igsf[i,j,k] = computeMutantPottsEnergiesDomains(h,J,seq,[mutation],int(len_seq-1))[0][0]"
   ]
  },
  {
   "cell_type": "code",
   "execution_count": 593,
   "metadata": {},
   "outputs": [
    {
     "name": "stderr",
     "output_type": "stream",
     "text": [
      "100%|██████████| 349/349 [00:00<00:00, 418.04it/s]\n"
     ]
    }
   ],
   "source": [
    "tot_S5F_mat = np.zeros(dE_ighv.shape)\n",
    "for k in tqdm(range(tot_S5F_mat.shape[2])):\n",
    "    tot_S5F_mat[:,:,k] = generateS5Fmat(old_nts[k],ighv_aa[k],seq_ids[k],relative_mutabilities = True)"
   ]
  },
  {
   "cell_type": "code",
   "execution_count": 405,
   "metadata": {},
   "outputs": [
    {
     "name": "stderr",
     "output_type": "stream",
     "text": [
      "100%|██████████| 349/349 [00:00<00:00, 1158.79it/s]\n"
     ]
    }
   ],
   "source": [
    "tot_null_ighv = np.zeros(dE_ighv.shape)\n",
    "for k in tqdm(range(tot_S5F_mat.shape[2])):\n",
    "    seq = seq_mat_ighv[k,:]\n",
    "    for j in range(len_seq):\n",
    "        for i in range(1,21):\n",
    "            tot_null_ighv[i,j,k] = spectra_mat[seq[j],i]\n"
   ]
  },
  {
   "cell_type": "code",
   "execution_count": 410,
   "metadata": {},
   "outputs": [
    {
     "name": "stderr",
     "output_type": "stream",
     "text": [
      "100%|██████████| 1000/1000 [00:00<00:00, 1166.18it/s]\n"
     ]
    }
   ],
   "source": [
    "tot_null_igsf = np.zeros(dE_igsf.shape)\n",
    "for k in tqdm(range(tot_null_igsf.shape[2])):\n",
    "    seq = seq_mat_igsf_subset[k,:]\n",
    "    for j in range(len_seq):\n",
    "        for i in range(1,21):\n",
    "            tot_null_igsf[i,j,k] = spectra_mat[seq[j],i]"
   ]
  },
  {
   "cell_type": "code",
   "execution_count": 594,
   "metadata": {},
   "outputs": [],
   "source": [
    "def moving_window_muts(dE,rate_mat,window):\n",
    "    muts = []\n",
    "    for k in tqdm(range(rate_mat.shape[2])):\n",
    "        for j in range(rate_mat.shape[1]-window):\n",
    "            temp_mut_mat = dE[:,j:j+window,k]\n",
    "            temp_rate_mat = rate_mat[:,j:j+window,k]\n",
    "            if np.sum(temp_rate_mat) != 0:\n",
    "                temp_rate_mat = temp_rate_mat/np.sum(temp_rate_mat)\n",
    "            effect_mat = temp_mut_mat*temp_rate_mat\n",
    "            muts.append(np.mean(effect_mat))\n",
    "    return muts"
   ]
  },
  {
   "cell_type": "code",
   "execution_count": 540,
   "metadata": {},
   "outputs": [],
   "source": [
    "def cdr_muts(dE,rate_mat,cdr_sites):\n",
    "    muts = []\n",
    "    for k in tqdm(range(rate_mat.shape[2])):\n",
    "        temp_mut_mat = dE[:,cdr_sites,k]\n",
    "        temp_rate_mat = rate_mat[:,cdr_sites,k]\n",
    "        if np.sum(temp_rate_mat) != 0:\n",
    "            temp_rate_mat = temp_rate_mat/np.sum(temp_rate_mat)\n",
    "            effect_mat = temp_mut_mat*temp_rate_mat\n",
    "            muts.append(np.mean(effect_mat))\n",
    "    return muts"
   ]
  },
  {
   "cell_type": "code",
   "execution_count": 563,
   "metadata": {},
   "outputs": [],
   "source": [
    "def cdr_site_muts(dE,rate_mat,cdr_sites):\n",
    "    muts = []\n",
    "    for k in tqdm(range(rate_mat.shape[2])):\n",
    "        for j in cdr_sites:\n",
    "            temp_mut_mat = dE[:,j,k]\n",
    "            temp_rate_mat = rate_mat[:,j,k]\n",
    "            if np.sum(temp_rate_mat) != 0:\n",
    "                effect_mat = temp_mut_mat*temp_rate_mat\n",
    "                muts.append(np.mean(effect_mat))\n",
    "    return muts"
   ]
  },
  {
   "cell_type": "code",
   "execution_count": 595,
   "metadata": {},
   "outputs": [
    {
     "name": "stderr",
     "output_type": "stream",
     "text": [
      "100%|██████████| 349/349 [00:00<00:00, 485.18it/s]\n",
      "100%|██████████| 349/349 [00:00<00:00, 505.36it/s]\n",
      "100%|██████████| 1000/1000 [00:02<00:00, 466.59it/s]\n"
     ]
    }
   ],
   "source": [
    "muts_S5F = moving_window_muts(dE_ighv,tot_S5F_mat,8)\n",
    "muts_null = moving_window_muts(dE_ighv,tot_null_ighv,8)\n",
    "muts_igsf = moving_window_muts(dE_igsf,tot_null_igsf,8)"
   ]
  },
  {
   "cell_type": "code",
   "execution_count": 506,
   "metadata": {},
   "outputs": [],
   "source": [
    "cdr1_sites = np.arange(13,23)\n",
    "cdr2_sites = np.arange(37,45)"
   ]
  },
  {
   "cell_type": "code",
   "execution_count": 549,
   "metadata": {},
   "outputs": [
    {
     "name": "stderr",
     "output_type": "stream",
     "text": [
      "100%|██████████| 349/349 [00:00<00:00, 22690.19it/s]\n",
      "100%|██████████| 349/349 [00:00<00:00, 22978.70it/s]\n",
      "100%|██████████| 1000/1000 [00:00<00:00, 31025.25it/s]\n"
     ]
    }
   ],
   "source": [
    "muts_S5F_cdr1 = cdr_muts(dE_ighv,tot_S5F_mat,cdr1_sites)\n",
    "muts_null_cdr1 = cdr_muts(dE_ighv,tot_null_ighv,cdr1_sites)\n",
    "muts_igsf_cdr1 = cdr_muts(dE_igsf,tot_null_igsf,cdr1_sites)"
   ]
  },
  {
   "cell_type": "code",
   "execution_count": 564,
   "metadata": {},
   "outputs": [
    {
     "name": "stderr",
     "output_type": "stream",
     "text": [
      "100%|██████████| 349/349 [00:00<00:00, 6532.05it/s]\n",
      "100%|██████████| 349/349 [00:00<00:00, 6592.50it/s]\n",
      "100%|██████████| 1000/1000 [00:00<00:00, 7430.10it/s]\n"
     ]
    }
   ],
   "source": [
    "muts_S5F_cdr1_sites = cdr_site_muts(dE_ighv,tot_S5F_mat,cdr1_sites)\n",
    "muts_null_cdr1_sites = cdr_site_muts(dE_ighv,tot_null_ighv,cdr1_sites)\n",
    "muts_igsf_cdr1_sites = cdr_site_muts(dE_igsf,tot_null_igsf,cdr1_sites)"
   ]
  },
  {
   "cell_type": "code",
   "execution_count": 596,
   "metadata": {},
   "outputs": [
    {
     "data": {
      "image/png": "[encoded data removed]",
      "text/plain": [
       "<Figure size 756x396 with 1 Axes>"
      ]
     },
     "metadata": {
      "needs_background": "light"
     },
     "output_type": "display_data"
    }
   ],
   "source": [
    "plt.hist(muts_S5F,alpha = 0.6,density= True,bins = 100,label='IGHV under S5F')\n",
    "plt.hist(muts_null,alpha = 0.6,density= True,bins=100,label = 'IGHV under null model')\n",
    "plt.hist(muts_igsf,alpha = 0.6,density= True,bins=100,label= 'IGSF under null model')\n",
    "\n",
    "plt.ylabel('p(dE)')\n",
    "plt.xlabel('average dE for moving window')\n",
    "plt.legend(loc = 'upper left')\n",
    "fig = plt.gcf()\n",
    "fig.set_size_inches(10.5, 5.5)\n",
    "plt.show()"
   ]
  },
  {
   "cell_type": "code",
   "execution_count": 597,
   "metadata": {},
   "outputs": [
    {
     "data": {
      "text/plain": [
       "-0.00041388488505144446"
      ]
     },
     "execution_count": 597,
     "metadata": {},
     "output_type": "execute_result"
    }
   ],
   "source": [
    "np.mean(muts_S5F)"
   ]
  },
  {
   "cell_type": "code",
   "execution_count": 598,
   "metadata": {},
   "outputs": [
    {
     "data": {
      "text/plain": [
       "-0.00040494804958763735"
      ]
     },
     "execution_count": 598,
     "metadata": {},
     "output_type": "execute_result"
    }
   ],
   "source": [
    "np.mean(muts_igsf)"
   ]
  },
  {
   "cell_type": "code",
   "execution_count": 599,
   "metadata": {},
   "outputs": [
    {
     "data": {
      "image/png": "[encoded data removed]",
      "text/plain": [
       "<Figure size 756x396 with 1 Axes>"
      ]
     },
     "metadata": {
      "needs_background": "light"
     },
     "output_type": "display_data"
    }
   ],
   "source": [
    "#plt.hist(muts_S5F,alpha = 0.3,density= True,bins = 100,label='IGHV under S5F')\n",
    "#plt.hist(muts_null,alpha = 0.3,density= True,bins=100,label = 'IGHV under null model')\n",
    "#plt.hist(muts_igsf,alpha = 0.3,density= True,bins=100,label= 'IGSF under null model')\n",
    "plt.hist(muts_S5F_cdr1,alpha = 0.6,density= True,bins = 20,color = 'C0',label='IGHV CDR1 under S5F')\n",
    "plt.hist(muts_igsf_cdr1,alpha = 0.6,density= True,bins=20,color = 'C2',label = 'IGSF CDR1 homologous, null model')\n",
    "plt.hist(muts_null_cdr1,alpha = 0.6,density= True,bins=20,color = 'C1',label = 'IGHV CDR1 under null model')\n",
    "\n",
    "plt.ylabel('p(dE)')\n",
    "plt.xlabel('average dE for moving window')\n",
    "plt.legend(loc = 'upper left')\n",
    "fig = plt.gcf()\n",
    "fig.set_size_inches(10.5, 5.5)\n",
    "plt.show()\n"
   ]
  },
  {
   "cell_type": "code",
   "execution_count": 556,
   "metadata": {},
   "outputs": [
    {
     "data": {
      "text/plain": [
       "Ttest_indResult(statistic=11.716147695079979, pvalue=1.1554933827473691e-31)"
      ]
     },
     "execution_count": 556,
     "metadata": {},
     "output_type": "execute_result"
    }
   ],
   "source": [
    "stats.ttest_ind(a=muts_S5F, b=muts_null, equal_var=True)"
   ]
  },
  {
   "cell_type": "code",
   "execution_count": 557,
   "metadata": {},
   "outputs": [
    {
     "data": {
      "image/png": "[encoded data removed]",
      "text/plain": [
       "<Figure size 432x288 with 1 Axes>"
      ]
     },
     "metadata": {
      "needs_background": "light"
     },
     "output_type": "display_data"
    }
   ],
   "source": [
    "#plt.hist(muts_S5F,alpha = 0.6,density= True,bins = 40)\n",
    "plt.hist(muts_S5F_cdr1,alpha = 0.6,density= True,bins = 40)\n",
    "plt.hist(muts_null_cdr1,alpha = 0.6,density= True,bins = 40)\n",
    "\n",
    "#plt.hist(muts_igsf,alpha = 0.6,density= True,bins = 40)\n",
    "#plt.hist(muts_igsf_cdr1,alpha = 0.6,density= True,bins = 40)\n",
    "plt.show()"
   ]
  },
  {
   "cell_type": "code",
   "execution_count": 558,
   "metadata": {},
   "outputs": [
    {
     "data": {
      "text/plain": [
       "Ttest_indResult(statistic=-0.6895156268734332, pvalue=0.49072865770680385)"
      ]
     },
     "execution_count": 558,
     "metadata": {},
     "output_type": "execute_result"
    }
   ],
   "source": [
    "stats.ttest_ind(a=muts_S5F_cdr1, b=muts_null_cdr1, equal_var=True)"
   ]
  },
  {
   "cell_type": "code",
   "execution_count": 487,
   "metadata": {},
   "outputs": [
    {
     "data": {
      "text/plain": [
       "-0.004427214532775606"
      ]
     },
     "execution_count": 487,
     "metadata": {},
     "output_type": "execute_result"
    }
   ],
   "source": [
    "np.mean(muts_S5F)"
   ]
  },
  {
   "cell_type": "code",
   "execution_count": 488,
   "metadata": {},
   "outputs": [
    {
     "data": {
      "text/plain": [
       "-0.0045435806275110815"
      ]
     },
     "execution_count": 488,
     "metadata": {},
     "output_type": "execute_result"
    }
   ],
   "source": [
    "np.mean(muts_null)"
   ]
  },
  {
   "cell_type": "code",
   "execution_count": 489,
   "metadata": {},
   "outputs": [],
   "source": [
    "n_windows = len(muts_null)"
   ]
  },
  {
   "cell_type": "code",
   "execution_count": 490,
   "metadata": {},
   "outputs": [],
   "source": [
    "muts_ests_S5F = []\n",
    "muts_S5F = np.array(muts_S5F)\n",
    "muts_null = np.array(muts_null)\n",
    "for i in range(1000):\n",
    "    resamples = muts_S5F[np.random.randint(0,high = n_windows,size = n_windows)]\n",
    "    muts_ests_S5F.append(np.mean(resamples))\n",
    "muts_ests_null = []\n",
    "for i in range(1000):\n",
    "    resamples = muts_null[np.random.randint(0,high = n_windows,size = n_windows)]\n",
    "    muts_ests_null.append(np.mean(resamples))"
   ]
  },
  {
   "cell_type": "code",
   "execution_count": 492,
   "metadata": {},
   "outputs": [
    {
     "data": {
      "image/png": "[encoded data removed]",
      "text/plain": [
       "<Figure size 432x288 with 1 Axes>"
      ]
     },
     "metadata": {
      "needs_background": "light"
     },
     "output_type": "display_data"
    }
   ],
   "source": [
    "plt.hist(muts_ests_S5F,alpha = 0.6,density= True,bins = 30)\n",
    "plt.hist(muts_ests_null,alpha = 0.6,density= True,bins=30)\n",
    "plt.show()"
   ]
  },
  {
   "cell_type": "code",
   "execution_count": 508,
   "metadata": {},
   "outputs": [],
   "source": []
  }
 ],
 "metadata": {
  "kernelspec": {
   "display_name": "Python 3",
   "language": "python",
   "name": "python3"
  },
  "language_info": {
   "codemirror_mode": {
    "name": "ipython",
    "version": 3
   },
   "file_extension": ".py",
   "mimetype": "text/x-python",
   "name": "python",
   "nbconvert_exporter": "python",
   "pygments_lexer": "ipython3",
   "version": "3.8.3"
  }
 },
 "nbformat": 4,
 "nbformat_minor": 4
}
